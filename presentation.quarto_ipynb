{
  "cells": [
    {
      "cell_type": "markdown",
      "metadata": {},
      "source": [
        "---\n",
        "title: \"Cervical Cancer Risk Prediction\"\n",
        "subtitle: \"INFO 523 - Summer 2025 - Final Project\"\n",
        "author: \"Team Okhawere\"\n",
        "title-slide-attributes:\n",
        "  data-background-image: images/Cervical CA Image.png\n",
        "  data-background-size: contain\n",
        "  data-background-position: right\n",
        "  data-background-opacity: \"0.9\"\n",
        "  data-slide-number: none\n",
        "format:\n",
        "  revealjs:\n",
        "    theme:  ['data/customtheming.scss']\n",
        "  \n",
        "editor: visual\n",
        "jupyter: python3\n",
        "execute:\n",
        "  echo: false\n",
        "---"
      ],
      "id": "8716e9fe"
    },
    {
      "cell_type": "code",
      "metadata": {},
      "source": [
        "#| label: load-packages\n",
        "#| include: false\n",
        "\n",
        "# Load packages here\n",
        "import pandas as pd\n",
        "import seaborn as sns"
      ],
      "id": "load-packages",
      "execution_count": null,
      "outputs": []
    },
    {
      "cell_type": "code",
      "metadata": {},
      "source": [
        "#| label: setup\n",
        "#| include: false\n",
        "# Set up plot theme and figure resolution\n",
        "sns.set_theme(style=\"whitegrid\")\n",
        "sns.set_context(\"notebook\", font_scale=1.1)\n",
        "\n",
        "import matplotlib.pyplot as plt\n",
        "plt.rcParams['figure.dpi'] = 300\n",
        "plt.rcParams['savefig.dpi'] = 300\n",
        "plt.rcParams['figure.figsize'] = (6, 6 * 0.618)"
      ],
      "id": "setup",
      "execution_count": null,
      "outputs": []
    },
    {
      "cell_type": "code",
      "metadata": {},
      "source": [
        "#| label: load-data\n",
        "#| include: false\n",
        "# Load data in Python\n",
        "mtcars = sns.load_dataset('mpg').dropna()  # mtcars dataset is similar to the mpg dataset from seaborn\n",
        "mtcars['speed'] = mtcars['horsepower'] / mtcars['weight']\n",
        "\n",
        "penguins = sns.load_dataset('penguins').dropna()"
      ],
      "id": "load-data",
      "execution_count": null,
      "outputs": []
    },
    {
      "cell_type": "markdown",
      "metadata": {},
      "source": [
        "# Using Quarto for presentations\n",
        "\n",
        "## Quarto\n",
        "\n",
        "-   The presentation is created using the Quarto CLI\n",
        "\n",
        "-   `##` sets the start of a new slide\n",
        "\n",
        "## Layouts\n",
        "\n",
        "You can use plain text\n",
        "\n",
        "::::: columns\n",
        "::: {.column width=\"40%\"}\n",
        "-   or bullet points[^1]\n",
        ":::\n",
        "\n",
        "::: {.column width=\"60%\"}\n",
        "or in two columns\n",
        ":::\n",
        ":::::\n",
        "\n",
        "[^1]: And add footnotes\n",
        "\n",
        "-   like\n",
        "\n",
        "-   this\n",
        "\n",
        "## Code"
      ],
      "id": "23f9ea86"
    },
    {
      "cell_type": "code",
      "metadata": {},
      "source": [
        "from sklearn.linear_model import LinearRegression\n",
        "import statsmodels.api as sm\n",
        "import pandas as pd\n",
        "\n",
        "# Fit a linear regression model\n",
        "X = mtcars[['speed']]\n",
        "y = mtcars['mpg']\n",
        "model = LinearRegression().fit(X, y)\n",
        "\n",
        "# Summary of the model\n",
        "X2 = sm.add_constant(X)\n",
        "est = sm.OLS(y, X2)\n",
        "est2 = est.fit()\n",
        "print(est2.summary())"
      ],
      "id": "30642265",
      "execution_count": null,
      "outputs": []
    },
    {
      "cell_type": "markdown",
      "metadata": {},
      "source": [
        "## Plots"
      ],
      "id": "74f02e99"
    },
    {
      "cell_type": "code",
      "metadata": {},
      "source": [
        "penguins['species'] = penguins['species'].apply(lambda x: \"Adelie\" if x == \"Adelie\" else \"Other\")\n",
        "sns.scatterplot(data=penguins, x='flipper_length_mm', y='body_mass_g', hue='species')\n",
        "plt.show()"
      ],
      "id": "b3e5dc60",
      "execution_count": null,
      "outputs": []
    },
    {
      "cell_type": "markdown",
      "metadata": {},
      "source": [
        "## Plot and text\n",
        "\n",
        "::::: columns\n",
        "::: {.column width=\"50%\"}\n",
        "-   Some text\n",
        "\n",
        "-   goes here\n",
        ":::\n",
        "\n",
        "::: {.column width=\"50%\"}"
      ],
      "id": "d828d4c6"
    },
    {
      "cell_type": "code",
      "metadata": {
        "fig.width": 5.5
      },
      "source": [
        "#| warning: false\n",
        "fig, ax = plt.subplots(figsize=(5.5, 5.5 * 0.618))\n",
        "sns.boxplot(data=penguins, x='bill_length_mm', y='species', hue='species', ax=ax)\n",
        "plt.show()"
      ],
      "id": "b961ff3d",
      "execution_count": null,
      "outputs": []
    },
    {
      "cell_type": "markdown",
      "metadata": {},
      "source": [
        ":::\n",
        ":::::\n",
        "\n",
        "# A new section...\n",
        "\n",
        "## Tables\n",
        "\n",
        "If you want to generate a table, make sure it is in the HTML format (instead of Markdown or other formats), e.g.,"
      ],
      "id": "25b78e89"
    },
    {
      "cell_type": "code",
      "metadata": {},
      "source": [
        "penguins.head().to_html()"
      ],
      "id": "c0bc8d6d",
      "execution_count": null,
      "outputs": []
    },
    {
      "cell_type": "markdown",
      "metadata": {},
      "source": [
        "## Images\n",
        "\n",
        "![Image credit: Danielle Navarro, Percolate.](images/watercolour_sys02_img34_teacup-ocean.png){fig-align=\"center\" width=\"500\"}\n",
        "\n",
        "## Math Expressions {.smaller}\n",
        "\n",
        "You can write LaTeX math expressions inside a pair of dollar signs, e.g. \\$\\\\alpha+\\\\beta\\$ renders $\\alpha + \\beta$. You can use the display style with double dollar signs:\n",
        "\n",
        "```         \n",
        "$$\\bar{X}=\\frac{1}{n}\\sum_{i=1}^nX_i$$\n",
        "```\n",
        "\n",
        "$$\n",
        "\\bar{X}=\\frac{1}{n}\\sum_{i=1}^nX_i\n",
        "$$\n",
        "\n",
        "Limitations:\n",
        "\n",
        "1.  The source code of a LaTeX math expression must be in one line, unless it is inside a pair of double dollar signs, in which case the starting `$$` must appear in the very beginning of a line, followed immediately by a non-space character, and the ending `$$` must be at the end of a line, led by a non-space character;\n",
        "\n",
        "2.  There should not be spaces after the opening `$` or before the closing `$`.\n",
        "\n",
        "# Wrap up\n",
        "\n",
        "## Feeling adventurous?\n",
        "\n",
        "-   You are welcomed to use the default styling of the slides. In fact, that's what I expect majority of you will do. You will differentiate yourself with the content of your presentation.\n",
        "\n",
        "-   But some of you might want to play around with slide styling. Some solutions for this can be found at https://quarto.org/docs/presentations/revealjs."
      ],
      "id": "da7c99f3"
    }
  ],
  "metadata": {
    "kernelspec": {
      "name": "python3",
      "language": "python",
      "display_name": "Python 3 (ipykernel)",
      "path": "/opt/miniconda3/share/jupyter/kernels/python3"
    }
  },
  "nbformat": 4,
  "nbformat_minor": 5
}